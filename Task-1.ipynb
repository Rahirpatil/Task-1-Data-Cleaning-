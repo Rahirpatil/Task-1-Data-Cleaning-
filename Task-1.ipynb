{
 "cells": [
  {
   "cell_type": "code",
   "execution_count": 1,
   "id": "6868a633-7ccb-48cb-9ee7-6859615794cb",
   "metadata": {},
   "outputs": [],
   "source": [
    "# Import liabraries\n",
    "\n",
    "import matplotlib.pyplot as plt\n",
    "import seaborn as sns\n",
    "import pandas as pd\n",
    "import numpy as np"
   ]
  },
  {
   "cell_type": "code",
   "execution_count": 2,
   "id": "1bf3cd3e-fdb0-46a4-8663-1dd45ea96352",
   "metadata": {},
   "outputs": [
    {
     "name": "stdout",
     "output_type": "stream",
     "text": [
      "        Name      Age Gender              Email     Join_Date Salary  \\\n",
      "0      Alice      NaN    NaN  user0@example.com    2021-05-21    NaN   \n",
      "1        Bob       40      M  user1@example.com           NaN  50000   \n",
      "2    Charlie  unknown   Male  user2@example.com    2020/01/01  50000   \n",
      "3      David      NaN    NaN  user3@example.com    2021-05-21  70000   \n",
      "4        Eva       35  Other  user4@example.com  July 4, 2020  70000   \n",
      "..       ...      ...    ...                ...           ...    ...   \n",
      "100    Alice      NaN    NaN  user0@example.com    2021-05-21    NaN   \n",
      "101      Bob       40      M  user1@example.com           NaN  50000   \n",
      "102  Charlie  unknown   Male  user2@example.com    2020/01/01  50000   \n",
      "103    David      NaN    NaN  user3@example.com    2021-05-21  70000   \n",
      "104      Eva       35  Other  user4@example.com  July 4, 2020  70000   \n",
      "\n",
      "      Department  \n",
      "0          Admin  \n",
      "1    Engineering  \n",
      "2             HR  \n",
      "3          Admin  \n",
      "4    Engineering  \n",
      "..           ...  \n",
      "100        Admin  \n",
      "101  Engineering  \n",
      "102           HR  \n",
      "103        Admin  \n",
      "104  Engineering  \n",
      "\n",
      "[105 rows x 7 columns]\n"
     ]
    }
   ],
   "source": [
    "ds=pd.read_csv(\"D:\\\\Internship\\\\Machine learning\\\\raw_messy_dataset.xlsx.csv\")\n",
    "print(ds)"
   ]
  },
  {
   "cell_type": "code",
   "execution_count": 3,
   "id": "1904f434-e2a5-46ba-a122-7f6b0fe00b6c",
   "metadata": {},
   "outputs": [
    {
     "name": "stdout",
     "output_type": "stream",
     "text": [
      "        Name      Age Gender              Email     Join_Date Salary  \\\n",
      "0      Alice      NaN    NaN  user0@example.com    2021-05-21    NaN   \n",
      "1        Bob       40      M  user1@example.com           NaN  50000   \n",
      "2    Charlie  unknown   Male  user2@example.com    2020/01/01  50000   \n",
      "3      David      NaN    NaN  user3@example.com    2021-05-21  70000   \n",
      "4        Eva       35  Other  user4@example.com  July 4, 2020  70000   \n",
      "..       ...      ...    ...                ...           ...    ...   \n",
      "100    Alice      NaN    NaN  user0@example.com    2021-05-21    NaN   \n",
      "101      Bob       40      M  user1@example.com           NaN  50000   \n",
      "102  Charlie  unknown   Male  user2@example.com    2020/01/01  50000   \n",
      "103    David      NaN    NaN  user3@example.com    2021-05-21  70000   \n",
      "104      Eva       35  Other  user4@example.com  July 4, 2020  70000   \n",
      "\n",
      "      Department  \n",
      "0          Admin  \n",
      "1    Engineering  \n",
      "2             HR  \n",
      "3          Admin  \n",
      "4    Engineering  \n",
      "..           ...  \n",
      "100        Admin  \n",
      "101  Engineering  \n",
      "102           HR  \n",
      "103        Admin  \n",
      "104  Engineering  \n",
      "\n",
      "[105 rows x 7 columns]\n"
     ]
    }
   ],
   "source": [
    "ds.to_excel(\"raw_messy_dataset.xlsx\", index=False)\n",
    "print(ds)"
   ]
  },
  {
   "cell_type": "code",
   "execution_count": 4,
   "id": "4b800e58-c266-45c0-ab42-2ab5d3b001ba",
   "metadata": {},
   "outputs": [
    {
     "name": "stdout",
     "output_type": "stream",
     "text": [
      "<bound method DataFrame.to_string of         Name      Age  Gender               Email     Join_Date   Salary  \\\n",
      "2    Charlie  unknown    Male   user2@example.com    2020/01/01    50000   \n",
      "4        Eva       35   Other   user4@example.com  July 4, 2020    70000   \n",
      "6      Grace  unknown  Female   user6@example.com  July 4, 2020    80000   \n",
      "9       Jack       35    Male   user9@example.com    2020/01/01    80000   \n",
      "11       Bob       35       M  user11@example.com  July 4, 2020    50000   \n",
      "12   Charlie       35       M  user12@example.com    22-06-2022    80000   \n",
      "14       Eva       40    Male  user14@example.com  July 4, 2020    80000   \n",
      "18       Ivy       30    Male  user18@example.com    2021-05-21    50000   \n",
      "25     Frank       25       F  user25@example.com    22-06-2022    60000   \n",
      "29      Jack  unknown   Other  user29@example.com    2021-05-21    50000   \n",
      "30     Alice       40  Female  user30@example.com    2021-05-21    80000   \n",
      "31       Bob       25  Female  user31@example.com  July 4, 2020    50000   \n",
      "32   Charlie       25    Male  user32@example.com    2021-05-21    80000   \n",
      "33     David       35       M  user33@example.com    22-06-2022    50000   \n",
      "57    Hannah       40  Female  user57@example.com  July 4, 2020  unknown   \n",
      "59      Jack       40   Other  user59@example.com    2021-05-21    50000   \n",
      "64       Eva       30       M  user64@example.com  July 4, 2020    80000   \n",
      "67    Hannah       40   Other  user67@example.com  July 4, 2020    80000   \n",
      "70     Alice       40       M  user70@example.com    22-06-2022    50000   \n",
      "72   Charlie       40       F  user72@example.com  July 4, 2020    80000   \n",
      "78       Ivy       40   Other  user78@example.com    2021-05-21    70000   \n",
      "102  Charlie  unknown    Male   user2@example.com    2020/01/01    50000   \n",
      "104      Eva       35   Other   user4@example.com  July 4, 2020    70000   \n",
      "\n",
      "      Department  \n",
      "2             HR  \n",
      "4    Engineering  \n",
      "6    Engineering  \n",
      "9    Engineering  \n",
      "11         Sales  \n",
      "12         Sales  \n",
      "14            HR  \n",
      "18   Engineering  \n",
      "25         Sales  \n",
      "29         Sales  \n",
      "30         Admin  \n",
      "31         Admin  \n",
      "32     Marketing  \n",
      "33            HR  \n",
      "57     Marketing  \n",
      "59     Marketing  \n",
      "64     Marketing  \n",
      "67     Marketing  \n",
      "70     Marketing  \n",
      "72         Admin  \n",
      "78   Engineering  \n",
      "102           HR  \n",
      "104  Engineering  >\n"
     ]
    }
   ],
   "source": [
    "new_drop=ds.dropna()\n",
    "print(new_drop.to_string)"
   ]
  },
  {
   "cell_type": "code",
   "execution_count": 5,
   "id": "22483288-1316-4be8-a46d-ecdd2dc148bc",
   "metadata": {},
   "outputs": [
    {
     "name": "stdout",
     "output_type": "stream",
     "text": [
      "0      False\n",
      "1      False\n",
      "2      False\n",
      "3      False\n",
      "4      False\n",
      "       ...  \n",
      "100     True\n",
      "101     True\n",
      "102     True\n",
      "103     True\n",
      "104     True\n",
      "Length: 105, dtype: bool\n"
     ]
    }
   ],
   "source": [
    "print(ds.duplicated())\n",
    "ds.drop_duplicates(inplace=True)"
   ]
  },
  {
   "cell_type": "code",
   "execution_count": 6,
   "id": "255ec480-48b1-4a9d-9537-8e83321adf0b",
   "metadata": {},
   "outputs": [
    {
     "name": "stdout",
     "output_type": "stream",
     "text": [
      "       Name   Age Gender              Email     Join_Date Salary   Department\n",
      "0     Alice   NaN    NaN  user0@example.com    2021-05-21    NaN        Admin\n",
      "1       Bob  40.0      M  user1@example.com           NaN  50000  Engineering\n",
      "2   Charlie   NaN   Male  user2@example.com    2020/01/01  50000           HR\n",
      "3     David   NaN    NaN  user3@example.com    2021-05-21  70000        Admin\n",
      "4       Eva  35.0  Other  user4@example.com  July 4, 2020  70000  Engineering\n",
      "..      ...   ...    ...                ...           ...    ...          ...\n",
      "95    Frank   NaN   Male                NaN           NaN  50000          NaN\n",
      "96    Grace  40.0   Male                NaN           NaN  70000        Sales\n",
      "97   Hannah   NaN   Male                NaN    2020/01/01  60000          NaN\n",
      "98      Ivy   NaN      F                NaN    2020/01/01  50000          NaN\n",
      "99     Jack   NaN    NaN                NaN  July 4, 2020  60000        Admin\n",
      "\n",
      "[100 rows x 7 columns]\n"
     ]
    }
   ],
   "source": [
    "ds[\"Age\"]=pd.to_numeric(ds[\"Age\"],errors='coerce')\n",
    "print(ds)"
   ]
  },
  {
   "cell_type": "code",
   "execution_count": 7,
   "id": "5c6677d6-387e-4d43-9e60-f1ba2e86bb49",
   "metadata": {},
   "outputs": [
    {
     "data": {
      "text/plain": [
       "0     35.0\n",
       "1     40.0\n",
       "2     35.0\n",
       "3     35.0\n",
       "4     35.0\n",
       "      ... \n",
       "95    35.0\n",
       "96    40.0\n",
       "97    35.0\n",
       "98    35.0\n",
       "99    35.0\n",
       "Name: Age, Length: 100, dtype: float64"
      ]
     },
     "execution_count": 7,
     "metadata": {},
     "output_type": "execute_result"
    }
   ],
   "source": [
    "y=ds[\"Age\"].median()\n",
    "ds[\"Age\"].fillna(y)"
   ]
  },
  {
   "cell_type": "code",
   "execution_count": 8,
   "id": "bf84ffc6-296e-47a7-a99d-95e2e55d8965",
   "metadata": {},
   "outputs": [
    {
     "name": "stdout",
     "output_type": "stream",
     "text": [
      "       Name   Age Gender              Email     Join_Date Salary   Department\n",
      "0     Alice   NaN    NaN  user0@example.com    2021-05-21    NaN        Admin\n",
      "1       Bob  40.0      M  user1@example.com           NaN  50000  Engineering\n",
      "2   Charlie   NaN   Male  user2@example.com    2020/01/01  50000           HR\n",
      "3     David   NaN    NaN  user3@example.com    2021-05-21  70000        Admin\n",
      "4       Eva  35.0  Other  user4@example.com  July 4, 2020  70000  Engineering\n",
      "..      ...   ...    ...                ...           ...    ...          ...\n",
      "95    Frank   NaN   Male                NaN           NaN  50000          NaN\n",
      "96    Grace  40.0   Male                NaN           NaN  70000        Sales\n",
      "97   Hannah   NaN   Male                NaN    2020/01/01  60000          NaN\n",
      "98      Ivy   NaN      F                NaN    2020/01/01  50000          NaN\n",
      "99     Jack   NaN    NaN                NaN  July 4, 2020  60000        Admin\n",
      "\n",
      "[100 rows x 7 columns]\n"
     ]
    }
   ],
   "source": [
    "ds[\"Gender\"].unique()\n",
    "print(ds)"
   ]
  },
  {
   "cell_type": "code",
   "execution_count": 9,
   "id": "48289d1f-011d-47c4-85fd-3f09c02c2abb",
   "metadata": {},
   "outputs": [
    {
     "data": {
      "text/plain": [
       "0     user0@example.com\n",
       "1     user1@example.com\n",
       "2     user2@example.com\n",
       "3     user3@example.com\n",
       "4     user4@example.com\n",
       "            ...        \n",
       "95                    -\n",
       "96                    -\n",
       "97                    -\n",
       "98                    -\n",
       "99                    -\n",
       "Name: Email, Length: 100, dtype: object"
      ]
     },
     "execution_count": 9,
     "metadata": {},
     "output_type": "execute_result"
    }
   ],
   "source": [
    "#missing value fill in email block\n",
    "ds[\"Email\"].fillna(\"-\")"
   ]
  },
  {
   "cell_type": "code",
   "execution_count": 10,
   "id": "f54d2232-57c3-4633-ad86-53e3989bfb1c",
   "metadata": {},
   "outputs": [
    {
     "data": {
      "text/plain": [
       "<bound method DataFrame.info of        Name   Age Gender              Email     Join_Date Salary   Department  \\\n",
       "0     Alice   NaN    NaN  user0@example.com    2021-05-21    NaN        Admin   \n",
       "1       Bob  40.0      M  user1@example.com           NaN  50000  Engineering   \n",
       "2   Charlie   NaN   Male  user2@example.com    2020/01/01  50000           HR   \n",
       "3     David   NaN    NaN  user3@example.com    2021-05-21  70000        Admin   \n",
       "4       Eva  35.0  Other  user4@example.com  July 4, 2020  70000  Engineering   \n",
       "..      ...   ...    ...                ...           ...    ...          ...   \n",
       "95    Frank   NaN   Male                NaN           NaN  50000          NaN   \n",
       "96    Grace  40.0   Male                NaN           NaN  70000        Sales   \n",
       "97   Hannah   NaN   Male                NaN    2020/01/01  60000          NaN   \n",
       "98      Ivy   NaN      F                NaN    2020/01/01  50000          NaN   \n",
       "99     Jack   NaN    NaN                NaN  July 4, 2020  60000        Admin   \n",
       "\n",
       "    Join Date  \n",
       "0  2021-05-21  \n",
       "1         NaT  \n",
       "2         NaT  \n",
       "3  2021-05-21  \n",
       "4         NaT  \n",
       "..        ...  \n",
       "95        NaT  \n",
       "96        NaT  \n",
       "97        NaT  \n",
       "98        NaT  \n",
       "99        NaT  \n",
       "\n",
       "[100 rows x 8 columns]>"
      ]
     },
     "execution_count": 10,
     "metadata": {},
     "output_type": "execute_result"
    }
   ],
   "source": [
    "#handling date column\n",
    "ds[\"Join Date\"]=pd.to_datetime(ds[\"Join_Date\"],errors='coerce')\n",
    "ds.info"
   ]
  },
  {
   "cell_type": "code",
   "execution_count": 11,
   "id": "272339a1-f642-4c98-91ee-76c9f2344139",
   "metadata": {},
   "outputs": [
    {
     "name": "stdout",
     "output_type": "stream",
     "text": [
      "       Name   Age Gender              Email     Join_Date   Salary  \\\n",
      "0     Alice   NaN    NaN  user0@example.com    2021-05-21      NaN   \n",
      "1       Bob  40.0      M  user1@example.com           NaN  50000.0   \n",
      "2   Charlie   NaN   Male  user2@example.com    2020/01/01  50000.0   \n",
      "3     David   NaN    NaN  user3@example.com    2021-05-21  70000.0   \n",
      "4       Eva  35.0  Other  user4@example.com  July 4, 2020  70000.0   \n",
      "..      ...   ...    ...                ...           ...      ...   \n",
      "95    Frank   NaN   Male                NaN           NaN  50000.0   \n",
      "96    Grace  40.0   Male                NaN           NaN  70000.0   \n",
      "97   Hannah   NaN   Male                NaN    2020/01/01  60000.0   \n",
      "98      Ivy   NaN      F                NaN    2020/01/01  50000.0   \n",
      "99     Jack   NaN    NaN                NaN  July 4, 2020  60000.0   \n",
      "\n",
      "     Department  Join Date  \n",
      "0         Admin 2021-05-21  \n",
      "1   Engineering        NaT  \n",
      "2            HR        NaT  \n",
      "3         Admin 2021-05-21  \n",
      "4   Engineering        NaT  \n",
      "..          ...        ...  \n",
      "95          NaN        NaT  \n",
      "96        Sales        NaT  \n",
      "97          NaN        NaT  \n",
      "98          NaN        NaT  \n",
      "99        Admin        NaT  \n",
      "\n",
      "[100 rows x 8 columns]\n",
      "<class 'pandas.core.frame.DataFrame'>\n",
      "Index: 100 entries, 0 to 99\n",
      "Data columns (total 8 columns):\n",
      " #   Column      Non-Null Count  Dtype         \n",
      "---  ------      --------------  -----         \n",
      " 0   Name        100 non-null    object        \n",
      " 1   Age         57 non-null     float64       \n",
      " 2   Gender      86 non-null     object        \n",
      " 3   Email       90 non-null     object        \n",
      " 4   Join_Date   66 non-null     object        \n",
      " 5   Salary      60 non-null     float64       \n",
      " 6   Department  84 non-null     object        \n",
      " 7   Join Date   24 non-null     datetime64[ns]\n",
      "dtypes: datetime64[ns](1), float64(2), object(5)\n",
      "memory usage: 7.0+ KB\n"
     ]
    }
   ],
   "source": [
    "#handling salary column coverting into numeric\n",
    "ds[\"Salary\"]=pd.to_numeric(ds[\"Salary\"],errors='coerce')\n",
    "print(ds)\n",
    "ds.info()"
   ]
  },
  {
   "cell_type": "code",
   "execution_count": 12,
   "id": "39a71f39-f20c-4081-93dc-839d0cedbcff",
   "metadata": {},
   "outputs": [
    {
     "data": {
      "text/plain": [
       "array(['Admin', 'Engineering', 'HR', 'Sales', nan, 'Marketing'],\n",
       "      dtype=object)"
      ]
     },
     "execution_count": 12,
     "metadata": {},
     "output_type": "execute_result"
    }
   ],
   "source": [
    "#department sorting to find unique\n",
    "ds[\"Department\"].unique()"
   ]
  },
  {
   "cell_type": "code",
   "execution_count": 13,
   "id": "2aef1da3-0702-4d5b-9fd1-954b317200fa",
   "metadata": {},
   "outputs": [
    {
     "data": {
      "text/plain": [
       "'Engineering'"
      ]
     },
     "execution_count": 13,
     "metadata": {},
     "output_type": "execute_result"
    }
   ],
   "source": [
    "y=ds[\"Department\"].mode()[0]\n",
    "y"
   ]
  },
  {
   "cell_type": "code",
   "execution_count": 14,
   "id": "0181c038-d2e1-412b-b231-2ff23fa1e073",
   "metadata": {},
   "outputs": [
    {
     "name": "stderr",
     "output_type": "stream",
     "text": [
      "C:\\Users\\Sri\\AppData\\Local\\Temp\\ipykernel_7228\\1213118009.py:1: FutureWarning: A value is trying to be set on a copy of a DataFrame or Series through chained assignment using an inplace method.\n",
      "The behavior will change in pandas 3.0. This inplace method will never work because the intermediate object on which we are setting values always behaves as a copy.\n",
      "\n",
      "For example, when doing 'df[col].method(value, inplace=True)', try using 'df.method({col: value}, inplace=True)' or df[col] = df[col].method(value) instead, to perform the operation inplace on the original object.\n",
      "\n",
      "\n",
      "  ds[\"Department\"].fillna(y,inplace=True)\n"
     ]
    }
   ],
   "source": [
    "ds[\"Department\"].fillna(y,inplace=True)"
   ]
  },
  {
   "cell_type": "code",
   "execution_count": 15,
   "id": "7b4e0eb2-9b25-42fe-bfa0-7d6db9ac06be",
   "metadata": {},
   "outputs": [
    {
     "data": {
      "text/plain": [
       "array(['Admin', 'Engineering', 'HR', 'Sales', 'Marketing'], dtype=object)"
      ]
     },
     "execution_count": 15,
     "metadata": {},
     "output_type": "execute_result"
    }
   ],
   "source": [
    "ds[\"Department\"].unique()"
   ]
  },
  {
   "cell_type": "code",
   "execution_count": 24,
   "id": "98d96f48-9844-40a3-b7f5-a2b90050a659",
   "metadata": {},
   "outputs": [
    {
     "name": "stdout",
     "output_type": "stream",
     "text": [
      "0        NaN\n",
      "1       Male\n",
      "2       Male\n",
      "3        NaN\n",
      "4      Other\n",
      "       ...  \n",
      "95      Male\n",
      "96      Male\n",
      "97      Male\n",
      "98    Female\n",
      "99       NaN\n",
      "Name: Gender, Length: 100, dtype: object\n"
     ]
    }
   ],
   "source": [
    "ds[\"Gender\"]=ds[\"Gender\"].replace({\"M\":\"Male\",\"F\":\"Female\",\" \":\"NaN\"})\n",
    "print(ds[\"Gender\"])"
   ]
  },
  {
   "cell_type": "code",
   "execution_count": null,
   "id": "ba77d404-d450-4e8e-b026-86fc426ed0ba",
   "metadata": {},
   "outputs": [],
   "source": []
  },
  {
   "cell_type": "code",
   "execution_count": null,
   "id": "e7c00004-7841-4af4-81b0-d0835201345a",
   "metadata": {},
   "outputs": [],
   "source": []
  },
  {
   "cell_type": "code",
   "execution_count": null,
   "id": "a74b1de1-f17a-4c1d-88c1-cd6dd1420e05",
   "metadata": {},
   "outputs": [],
   "source": []
  }
 ],
 "metadata": {
  "kernelspec": {
   "display_name": "Python 3 (ipykernel)",
   "language": "python",
   "name": "python3"
  },
  "language_info": {
   "codemirror_mode": {
    "name": "ipython",
    "version": 3
   },
   "file_extension": ".py",
   "mimetype": "text/x-python",
   "name": "python",
   "nbconvert_exporter": "python",
   "pygments_lexer": "ipython3",
   "version": "3.12.7"
  }
 },
 "nbformat": 4,
 "nbformat_minor": 5
}
